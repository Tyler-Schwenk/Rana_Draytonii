{
  "nbformat": 4,
  "nbformat_minor": 0,
  "metadata": {
    "colab": {
      "provenance": [],
      "authorship_tag": "ABX9TyPeQOnKsWx+N2t99azIEQbe",
      "include_colab_link": true
    },
    "kernelspec": {
      "name": "python3",
      "display_name": "Python 3"
    },
    "language_info": {
      "name": "python"
    }
  },
  "cells": [
    {
      "cell_type": "markdown",
      "metadata": {
        "id": "view-in-github",
        "colab_type": "text"
      },
      "source": [
        "<a href=\"https://colab.research.google.com/github/Tyler-Schwenk/Rana_Draytonii/blob/main/Data_Manager.ipynb\" target=\"_parent\"><img src=\"https://colab.research.google.com/assets/colab-badge.svg\" alt=\"Open In Colab\"/></a>"
      ]
    },
    {
      "cell_type": "markdown",
      "source": [
        "First prepare data into proper format and prepare with labels"
      ],
      "metadata": {
        "id": "gES2lpdAx9U5"
      }
    },
    {
      "cell_type": "code",
      "execution_count": 4,
      "metadata": {
        "colab": {
          "base_uri": "https://localhost:8080/"
        },
        "id": "9Klxj4wZqDWU",
        "outputId": "14073c11-4aa7-4ffd-9b2e-284dd417318a"
      },
      "outputs": [
        {
          "output_type": "stream",
          "name": "stdout",
          "text": [
            "Sampling rate of /Pseudacris and Rana 1.wav is 44100Hz\n",
            "Sampling rate of /Pseudacris and Rana 1.wav is 16000Hz\n"
          ]
        }
      ],
      "source": [
        "import os\n",
        "import torch\n",
        "import torchaudio\n",
        "\n",
        "\n",
        "# Changes sampling frequency of audio file to 16kHz required by the AST model\n",
        "def resampler(audio_path):\n",
        "  # load your audio file\n",
        "  waveform, sample_rate = torchaudio.load(audio_path)\n",
        "\n",
        "  # define resampler\n",
        "  resampler = torchaudio.transforms.Resample(orig_freq=sample_rate, new_freq=16000)\n",
        "\n",
        "  # resample the waveform and save\n",
        "  waveform_resampled = resampler(waveform)\n",
        "  torchaudio.save(audio_path, waveform_resampled, sample_rate=16000)\n",
        "\n",
        "\n",
        "# Define the path where your positive and negative .wav files are stored\n",
        "positive_audio_path = '/Pseudacris and Rana 1.wav'\n",
        "negative_audio_path = 'path_to_your_negative_audio_files'\n",
        "\n",
        "# Resample to 16kHz\n",
        "resampler(positive_audio_path)\n",
        "resampler(negative_audio_path)\n",
        "\n",
        "# Define the target length for your spectrograms\n",
        "target_length = 1024\n",
        "mel_bins = 128  # Number of bins in Mel spectrogram\n",
        "\n",
        "# Function to convert audio to Mel spectrogram\n",
        "def audio_to_mel_spectrogram(wav_name, mel_bins, target_length=1024):\n",
        "    waveform, sr = torchaudio.load(wav_name)\n",
        "    assert sr == 16000, 'input audio sampling rate must be 16kHz'\n",
        "\n",
        "    fbank = torchaudio.compliance.kaldi.fbank(\n",
        "        waveform, htk_compat=True, sample_frequency=sr, use_energy=False,\n",
        "        window_type='hanning', num_mel_bins=mel_bins, dither=0.0, frame_shift=10)\n",
        "\n",
        "    n_frames = fbank.shape[0]\n",
        "\n",
        "    p = target_length - n_frames\n",
        "    if p > 0:\n",
        "        m = torch.nn.ZeroPad2d((0, 0, 0, p))\n",
        "        fbank = m(fbank)\n",
        "    elif p < 0:\n",
        "        fbank = fbank[0:target_length, :]\n",
        "\n",
        "    fbank = (fbank - (-4.2677393)) / (4.5689974 * 2)\n",
        "    return fbank\n",
        "\n",
        "# Prepare dataset\n",
        "dataset = []\n",
        "labels = []\n",
        "\n",
        "# Process positive samples\n",
        "for filename in os.listdir(positive_audio_path):\n",
        "    if filename.endswith('.wav'):\n",
        "        filepath = os.path.join(positive_audio_path, filename)\n",
        "        spectrogram = audio_to_mel_spectrogram(filepath, mel_bins, target_length)\n",
        "        dataset.append(spectrogram)\n",
        "        labels.append(1)  # Positive samples are labeled as 1\n",
        "\n",
        "# Process negative samples\n",
        "for filename in os.listdir(negative_audio_path):\n",
        "    if filename.endswith('.wav'):\n",
        "        filepath = os.path.join(negative_audio_path, filename)\n",
        "        spectrogram = audio_to_mel_spectrogram(filepath, mel_bins, target_length)\n",
        "        dataset.append(spectrogram)\n",
        "        labels.append(0)  # Negative samples are labeled as 0\n",
        "\n",
        "# Convert to PyTorch tensors\n",
        "dataset = torch.stack(dataset)\n",
        "labels = torch.Tensor(labels)\n",
        "\n",
        "# Now `dataset` is your dataset of spectrograms and `labels` are the corresponding labels\n",
        "\n",
        "# Note: This script assumes your audio files have a sampling rate of 16kHz. If they do not, you may need to resample them to\n",
        "# this rate before generating the spectrograms. -- DONE\n",
        "\n",
        "# Remember to split your data into training, validation, and test sets, so you can properly train and evaluate your model.\n",
        "\n",
        "# Keep in mind that you might need to adjust this script according to your specific needs, for example, to manage memory \n",
        "# if you have a large number of audio files. In such cases, you might want to save the spectrograms to disk and use a \n",
        "# PyTorch DataLoader to load them in batches during training."
      ]
    }
  ]
}